{
  "nbformat": 4,
  "nbformat_minor": 0,
  "metadata": {
    "colab": {
      "provenance": [],
      "authorship_tag": "ABX9TyN5/vIVmqmGO0C3VNDpPpbS",
      "include_colab_link": true
    },
    "kernelspec": {
      "name": "python3",
      "display_name": "Python 3"
    },
    "language_info": {
      "name": "python"
    }
  },
  "cells": [
    {
      "cell_type": "markdown",
      "metadata": {
        "id": "view-in-github",
        "colab_type": "text"
      },
      "source": [
        "<a href=\"https://colab.research.google.com/github/brrikcy/spearhub-assignment/blob/main/predictive_analysis_API_machine_downtime_prediction.ipynb\" target=\"_parent\"><img src=\"https://colab.research.google.com/assets/colab-badge.svg\" alt=\"Open In Colab\"/></a>"
      ]
    },
    {
      "cell_type": "code",
      "source": [
        "#importing necessary libraries\n",
        "from flask import Flask, request, jsonify\n",
        "import pandas as pd\n",
        "import joblib\n",
        "from sklearn.model_selection import train_test_split\n",
        "from sklearn.linear_model import LogisticRegression\n",
        "from sklearn.tree import DecisionTreeClassifier\n",
        "from sklearn.metrics import classification_report\n",
        "import os"
      ],
      "metadata": {
        "id": "N17Sb0S24O1N"
      },
      "execution_count": null,
      "outputs": []
    },
    {
      "cell_type": "code",
      "source": [
        "#initializing flask\n",
        "app = Flask(__name__)\n",
        "\n",
        "# Initialize the models (will be loaded after training)\n",
        "lr_model = None\n",
        "dt_model = None\n",
        "data = None"
      ],
      "metadata": {
        "id": "K3RlFkh64UGZ"
      },
      "execution_count": null,
      "outputs": []
    },
    {
      "cell_type": "code",
      "source": [
        "#upload method\n",
        "@app.route('/upload', methods=['POST'])\n",
        "def upload_data():\n",
        "\n",
        "    global data\n",
        "    if 'file' not in request.files:\n",
        "        return jsonify({\"error\": \"No file part in the request!\"}), 400\n",
        "\n",
        "    file = request.files['file']\n",
        "    if not file.filename.endswith('.csv'):\n",
        "        return jsonify({\"error\": \"Uploaded file must be a CSV!\"}), 400\n",
        "\n",
        "    try:\n",
        "        data = pd.read_csv(file)\n",
        "        data = data.drop_duplicates()\n",
        "        data = data.dropna()\n",
        "        return jsonify({\"message\": \"Data uploaded successfully!\", \"rows\": len(data)}), 200\n",
        "    except Exception as e:\n",
        "        return jsonify({\"error\": f\"Failed to process file: {str(e)}\"}), 500"
      ],
      "metadata": {
        "id": "GUkpn9OB4gkF"
      },
      "execution_count": null,
      "outputs": []
    },
    {
      "cell_type": "code",
      "source": [
        "#train method\n",
        "@app.route('/train', methods=['POST'])\n",
        "def train_model():\n",
        "\n",
        "    global lr_model, dt_model, data\n",
        "    if data is None:\n",
        "        return jsonify({\"error\": \"No data uploaded! Please upload data first using /upload.\"}), 400\n",
        "\n",
        "    try:\n",
        "        # Split data into features (X) and target (y)\n",
        "        X = data.drop(columns=['Machine_ID', 'Downtime_Flag'])\n",
        "        y = data['Downtime_Flag']\n",
        "\n",
        "        # Train-test split\n",
        "        x_train, x_test, y_train, y_test = train_test_split(X, y, test_size=0.2, random_state=42)\n",
        "\n",
        "        # Train Logistic Regression model\n",
        "        lr_model = LogisticRegression()\n",
        "        lr_model.fit(x_train, y_train)\n",
        "\n",
        "        # Train Decision Tree model\n",
        "        dt_model = DecisionTreeClassifier()\n",
        "        dt_model.fit(x_train, y_train)\n",
        "\n",
        "        # Save models for future use\n",
        "        joblib.dump(lr_model, 'lr_model.pkl')\n",
        "        joblib.dump(dt_model, 'dt_model.pkl')\n",
        "\n",
        "        # Evaluate models\n",
        "        lr_report = classification_report(y_test, lr_model.predict(x_test), output_dict=True)\n",
        "        dt_report = classification_report(y_test, dt_model.predict(x_test), output_dict=True)\n",
        "\n",
        "        return jsonify({\n",
        "            \"Logistic_Regression_Report\": lr_report,\n",
        "            \"Decision_Tree_Report\": dt_report\n",
        "        }), 200\n",
        "    except Exception as e:\n",
        "        return jsonify({\"error\": f\"Training failed: {str(e)}\"}), 500\n"
      ],
      "metadata": {
        "id": "WMUexrsz4krX"
      },
      "execution_count": null,
      "outputs": []
    },
    {
      "cell_type": "code",
      "source": [
        "#predict method\n",
        "@app.route('/predict', methods=['POST'])\n",
        "def predict():\n",
        "    try:\n",
        "        data = request.get_json()\n",
        "        # Ensure the input features match the trained model\n",
        "        required_features = ['Temperature', 'Run_Time', 'Vibration_Level']\n",
        "\n",
        "        # Check for missing features and set default values\n",
        "        for feature in required_features:\n",
        "            if feature not in data:\n",
        "                return jsonify({\n",
        "                    \"error\": f\"Missing feature: {feature}. Please provide values for all required features: {required_features}\"\n",
        "                }), 400\n",
        "\n",
        "        # Convert input data to DataFrame\n",
        "        input_data = pd.DataFrame([data])\n",
        "\n",
        "        # Reorder columns to match training data\n",
        "        input_data = input_data[required_features]\n",
        "\n",
        "        # Make predictions with both models\n",
        "        lr_prediction = lr_model.predict(input_data)[0]\n",
        "        lr_confidence = max(lr_model.predict_proba(input_data)[0])\n",
        "\n",
        "        dt_prediction = dt_model.predict(input_data)[0]\n",
        "        dt_confidence = max(dt_model.predict_proba(input_data)[0])\n",
        "\n",
        "        # Convert predictions to human-readable format\n",
        "        result = {\n",
        "            \"Logistic_Regression\": {\n",
        "                \"Prediction\": \"Yes\" if lr_prediction == 1 else \"No\",\n",
        "                \"Confidence\": round(lr_confidence, 2)\n",
        "            },\n",
        "            \"Decision_Tree\": {\n",
        "                \"Prediction\": \"Yes\" if dt_prediction == 1 else \"No\",\n",
        "                \"Confidence\": round(dt_confidence, 2)\n",
        "            }\n",
        "        }\n",
        "        return jsonify(result)\n",
        "    except Exception as e:\n",
        "        return jsonify({\"error\": f\"Prediction failed: {str(e)}\"}), 500\n",
        "\n",
        "\n",
        "@app.errorhandler(Exception)\n",
        "def handle_exception(e):\n",
        "\n",
        "    return jsonify({\"error\": str(e)}), 500\n"
      ],
      "metadata": {
        "id": "_ihcKueF4zDN"
      },
      "execution_count": null,
      "outputs": []
    },
    {
      "cell_type": "code",
      "source": [
        "if __name__ == '__main__':\n",
        "    # Clean up existing model files (if any) on each restart\n",
        "    if os.path.exists('lr_model.pkl'):\n",
        "        os.remove('lr_model.pkl')\n",
        "    if os.path.exists('dt_model.pkl'):\n",
        "        os.remove('dt_model.pkl')\n",
        "\n",
        "    app.run(debug=True)\n"
      ],
      "metadata": {
        "id": "lbfH5Ysi4vD-"
      },
      "execution_count": null,
      "outputs": []
    }
  ]
}